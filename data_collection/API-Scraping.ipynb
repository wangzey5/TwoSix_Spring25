{
 "cells": [
  {
   "cell_type": "code",
   "execution_count": null,
   "id": "f432a3c9-bf3b-45cf-807f-43e074bc0aaf",
   "metadata": {},
   "outputs": [],
   "source": [
    "from pymongo import MongoClient\n",
    "\n",
    "client = MongoClient()\n",
    "db = client.regulationsgov_test # Testing DB\n",
    "comments_collection = db.comments\n",
    "details_collection = db.details"
   ]
  },
  {
   "cell_type": "code",
   "execution_count": null,
   "id": "ad0c0ef5-83d8-478f-8931-655f57b8c96d",
   "metadata": {},
   "outputs": [],
   "source": [
    "from copy import deepcopy\n",
    "import time\n",
    "from CommentScraper import exists, insert\n",
    "\n",
    "## Custom getAllComments breaks after 2 pages\n",
    "def getAllComments(apibasereq, collection):\n",
    "    pageNum = 1\n",
    "    metaPageNum = 1\n",
    "    while True: \n",
    "        apireq = deepcopy(apibasereq)\n",
    "        try:\n",
    "            documents = apireq.sort(\"lastModifiedDate\").page(pageNum).get()\n",
    "            print(f\"[{metaPageNum}](pg {pageNum}/20) ratelimit={apireq.ratelimit}\", end=\"\")\n",
    "            print(\" \"*100, end=\"\\r\")\n",
    "        except RuntimeError:\n",
    "            print(\"Rate Limit exceeded, retrying in 1 minute\")\n",
    "            time.sleep(60)\n",
    "            continue\n",
    "        except ConnectionError as e:\n",
    "            print(e)\n",
    "            continue\n",
    "\n",
    "        if len(documents[\"data\"]) == 0:\n",
    "            break\n",
    "\n",
    "        for doc in documents[\"data\"]:\n",
    "            if exists(doc, collection):\n",
    "                continue\n",
    "            insert(doc, collection)\n",
    "\n",
    "        if pageNum >= 2: ## TESTING ONLY\n",
    "            break        #\n",
    "        \n",
    "        if documents[\"meta\"][\"hasNextPage\"] == False:\n",
    "            date = documents[\"data\"][-1][\"attributes\"][\"lastModifiedDate\"]\n",
    "            apireq = apireq.lastmodified(date)\n",
    "            pageNum = 1\n",
    "            metaPageNum += 1\n",
    "        else:\n",
    "            pageNum += 1"
   ]
  },
  {
   "cell_type": "code",
   "execution_count": null,
   "id": "14e69a31-c042-444e-8f3a-184315deaf20",
   "metadata": {},
   "outputs": [],
   "source": [
    "from RegAPI import RegAPI\n",
    "from CommentScraper import getCommentDetails, APICommentDetailScraper\n",
    "\n",
    "api = RegAPI(250)\n",
    "getAllComments(api.endpoint(\"/comments\"), comments_collection)\n",
    "comments = [comment for comment in comments_collection.find()]\n",
    "getCommentDetails(APICommentDetailScraper(api), comments, details_collection)"
   ]
  }
 ],
 "metadata": {
  "kernelspec": {
   "display_name": "CMSE495-TwoSix",
   "language": "python",
   "name": "cmse495-twosix"
  },
  "language_info": {
   "codemirror_mode": {
    "name": "ipython",
    "version": 3
   },
   "file_extension": ".py",
   "mimetype": "text/x-python",
   "name": "python",
   "nbconvert_exporter": "python",
   "pygments_lexer": "ipython3",
   "version": "3.13.1"
  }
 },
 "nbformat": 4,
 "nbformat_minor": 5
}
